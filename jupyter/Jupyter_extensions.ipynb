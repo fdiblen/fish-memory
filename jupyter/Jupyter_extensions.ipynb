{
 "cells": [
  {
   "cell_type": "markdown",
   "metadata": {},
   "source": [
    "# Jupyter extensions\n",
    "\n",
    "See https://github.com/ipython-contrib/jupyter_contrib_nbextensions\n",
    "\n",
    "## Setup\n",
    "\n",
    "pip install jupyter_contrib_nbextensions\n",
    "\n",
    "pip install  jupyter_nbextensions_configurator\n",
    "\n",
    "jupyter contrib nbextension install --user\n",
    "\n",
    "## Enable extensions\n",
    "visit [http://localhost:8889/tree#nbextensions_configurator](http://localhost:8889/tree#nbextensions_configurator)\n",
    "\n",
    "![extensions](extensions.png)"
   ]
  },
  {
   "cell_type": "markdown",
   "metadata": {},
   "source": [
    "## Serving slides without exporting\n",
    "\n",
    "jupyter nbconvert ./notebooks/1-Introduction.ipynb  --to slides --post serve --reveal-prefix \"http://cdnjs.cloudflare.com/ajax/libs/reveal.js/3.3.0\""
   ]
  },
  {
   "cell_type": "code",
   "execution_count": null,
   "metadata": {},
   "outputs": [],
   "source": []
  }
 ],
 "metadata": {
  "kernelspec": {
   "display_name": "Python 3",
   "language": "python",
   "name": "python3"
  },
  "language_info": {
   "codemirror_mode": {
    "name": "ipython",
    "version": 3
   },
   "file_extension": ".py",
   "mimetype": "text/x-python",
   "name": "python",
   "nbconvert_exporter": "python",
   "pygments_lexer": "ipython3",
   "version": "3.7.4"
  }
 },
 "nbformat": 4,
 "nbformat_minor": 4
}
